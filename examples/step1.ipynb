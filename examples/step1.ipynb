{
 "cells": [
  {
   "cell_type": "code",
   "execution_count": 1,
   "metadata": {
    "collapsed": true
   },
   "outputs": [],
   "source": [
    "import ta\n",
    "\n",
    "import pandas as pd\n",
    "import tensortrade.env.default as default\n",
    "\n",
    "from tensortrade.data.cdd import CryptoDataDownload\n",
    "from tensortrade.feed.core import Stream, DataFeed, NameSpace\n",
    "from tensortrade.oms.instruments import USD, BTC, ETH, LTC\n",
    "from tensortrade.oms.wallets import Wallet, Portfolio\n",
    "from tensortrade.oms.exchanges import Exchange\n",
    "from tensortrade.oms.services.execution.simulated import execute_order"
   ]
  },
  {
   "cell_type": "markdown",
   "source": [],
   "metadata": {
    "collapsed": false
   }
  },
  {
   "cell_type": "code",
   "execution_count": null,
   "outputs": [],
   "source": [
    "cdd = CryptoDataDownload()\n",
    "\n",
    "bitfinex_data = pd.concat([\n",
    "    cdd.fetch(\"Bitfinex\", \"USD\", \"BTC\", \"1h\").add_prefix(\"BTC:\"),\n",
    "    cdd.fetch(\"Bitfinex\", \"USD\", \"ETH\", \"1h\").add_prefix(\"ETH:\")\n",
    "], axis=1)\n",
    "\n",
    "bitstamp_data = pd.concat([\n",
    "    cdd.fetch(\"Bitstamp\", \"USD\", \"BTC\", \"1h\").add_prefix(\"BTC:\"),\n",
    "    cdd.fetch(\"Bitstamp\", \"USD\", \"LTC\", \"1h\").add_prefix(\"LTC:\")\n",
    "], axis=1)"
   ],
   "metadata": {
    "collapsed": false
   }
  }
 ],
 "metadata": {
  "kernelspec": {
   "display_name": "Python 3",
   "language": "python",
   "name": "python3"
  },
  "language_info": {
   "codemirror_mode": {
    "name": "ipython",
    "version": 2
   },
   "file_extension": ".py",
   "mimetype": "text/x-python",
   "name": "python",
   "nbconvert_exporter": "python",
   "pygments_lexer": "ipython2",
   "version": "2.7.6"
  }
 },
 "nbformat": 4,
 "nbformat_minor": 0
}
