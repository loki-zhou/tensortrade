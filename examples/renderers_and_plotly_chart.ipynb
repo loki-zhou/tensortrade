{
 "cells": [
  {
   "cell_type": "markdown",
   "metadata": {},
   "source": [
    "# TensorTrade - Renderers and Plotly Visualization Chart\n",
    "## Data Loading Function"
   ]
  },
  {
   "cell_type": "code",
   "execution_count": 4,
   "metadata": {},
   "outputs": [],
   "source": [
    "# ipywidgets is required to run Plotly in Jupyter Notebook.\n",
    "# Uncomment and run the following line to install it if required.\n",
    "\n",
    "#!pip install ipywidgets"
   ]
  },
  {
   "cell_type": "code",
   "execution_count": 1,
   "metadata": {},
   "outputs": [],
   "source": [
    "import ta\n",
    "\n",
    "import pandas as pd\n",
    "\n",
    "from tensortrade.feed.core import Stream, DataFeed, NameSpace\n",
    "from tensortrade.oms.exchanges import Exchange\n",
    "from tensortrade.oms.services.execution.simulated import execute_order\n",
    "from tensortrade.oms.instruments import USD, BTC\n",
    "from tensortrade.oms.wallets import Wallet, Portfolio\n",
    "\n",
    "%matplotlib inline"
   ]
  },
  {
   "cell_type": "code",
   "execution_count": 2,
   "metadata": {},
   "outputs": [],
   "source": [
    "def load_csv(filename):\n",
    "    df = pd.read_csv('data/' + filename, skiprows=1)\n",
    "    df.drop(columns=['symbol', 'volume_btc'], inplace=True)\n",
    "\n",
    "    # Fix timestamp form \"2019-10-17 09-AM\" to \"2019-10-17 09-00-00 AM\"\n",
    "    df['date'] = df['date'].str[:14] + '00-00 ' + df['date'].str[-2:]\n",
    "\n",
    "    # Convert the date column type from string to datetime for proper sorting.\n",
    "    df['date'] = pd.to_datetime(df['date'])\n",
    "\n",
    "    # Make sure historical prices are sorted chronologically, oldest first.\n",
    "    df.sort_values(by='date', ascending=True, inplace=True)\n",
    "\n",
    "    df.reset_index(drop=True, inplace=True)\n",
    "\n",
    "    # Format timestamps as you want them to appear on the chart buy/sell marks.\n",
    "    df['date'] = df['date'].dt.strftime('%Y-%m-%d %I:%M %p')\n",
    "\n",
    "    return df"
   ]
  },
  {
   "cell_type": "code",
   "execution_count": 3,
   "metadata": {},
   "outputs": [
    {
     "data": {
      "text/plain": "                  date     open     high      low    close     volume\n0  2017-07-01 11:00 AM  2505.56  2513.38  2495.12  2509.17  287000.32\n1  2017-07-01 12:00 PM  2509.17  2512.87  2484.99  2488.43  393142.50\n2  2017-07-01 01:00 PM  2488.43  2488.43  2454.40  2454.43  693254.01\n3  2017-07-01 02:00 PM  2454.43  2473.93  2450.83  2459.35  712864.80\n4  2017-07-01 03:00 PM  2459.35  2475.00  2450.00  2467.83  682105.41",
      "text/html": "<div>\n<style scoped>\n    .dataframe tbody tr th:only-of-type {\n        vertical-align: middle;\n    }\n\n    .dataframe tbody tr th {\n        vertical-align: top;\n    }\n\n    .dataframe thead th {\n        text-align: right;\n    }\n</style>\n<table border=\"1\" class=\"dataframe\">\n  <thead>\n    <tr style=\"text-align: right;\">\n      <th></th>\n      <th>date</th>\n      <th>open</th>\n      <th>high</th>\n      <th>low</th>\n      <th>close</th>\n      <th>volume</th>\n    </tr>\n  </thead>\n  <tbody>\n    <tr>\n      <th>0</th>\n      <td>2017-07-01 11:00 AM</td>\n      <td>2505.56</td>\n      <td>2513.38</td>\n      <td>2495.12</td>\n      <td>2509.17</td>\n      <td>287000.32</td>\n    </tr>\n    <tr>\n      <th>1</th>\n      <td>2017-07-01 12:00 PM</td>\n      <td>2509.17</td>\n      <td>2512.87</td>\n      <td>2484.99</td>\n      <td>2488.43</td>\n      <td>393142.50</td>\n    </tr>\n    <tr>\n      <th>2</th>\n      <td>2017-07-01 01:00 PM</td>\n      <td>2488.43</td>\n      <td>2488.43</td>\n      <td>2454.40</td>\n      <td>2454.43</td>\n      <td>693254.01</td>\n    </tr>\n    <tr>\n      <th>3</th>\n      <td>2017-07-01 02:00 PM</td>\n      <td>2454.43</td>\n      <td>2473.93</td>\n      <td>2450.83</td>\n      <td>2459.35</td>\n      <td>712864.80</td>\n    </tr>\n    <tr>\n      <th>4</th>\n      <td>2017-07-01 03:00 PM</td>\n      <td>2459.35</td>\n      <td>2475.00</td>\n      <td>2450.00</td>\n      <td>2467.83</td>\n      <td>682105.41</td>\n    </tr>\n  </tbody>\n</table>\n</div>"
     },
     "execution_count": 3,
     "metadata": {},
     "output_type": "execute_result"
    }
   ],
   "source": [
    "# https://www.cryptodatadownload.com/cdd/Bitfinex_BTCUSD_1h.csv\n",
    "# df = load_csv('Bitfinex_BTCUSD_1h.csv')\n",
    "df = load_csv('Coinbase_BTCUSD_1h.csv')\n",
    "df.head()"
   ]
  },
  {
   "cell_type": "markdown",
   "metadata": {},
   "source": [
    "## Data Preparation\n",
    "### Create the dataset features"
   ]
  },
  {
   "cell_type": "code",
   "execution_count": 4,
   "metadata": {
    "scrolled": false
   },
   "outputs": [
    {
     "name": "stderr",
     "output_type": "stream",
     "text": [
      "C:\\ProgramData\\Anaconda3\\envs\\tensortrade\\lib\\site-packages\\ta\\trend.py:780: RuntimeWarning: invalid value encountered in scalar divide\n",
      "  dip[idx] = 100 * (self._dip[idx] / value)\n",
      "C:\\ProgramData\\Anaconda3\\envs\\tensortrade\\lib\\site-packages\\ta\\trend.py:785: RuntimeWarning: invalid value encountered in scalar divide\n",
      "  din[idx] = 100 * (self._din[idx] / value)\n"
     ]
    },
    {
     "data": {
      "text/plain": "                  date     open     high      low    close     volume  \\\n0  2017-07-01 11:00 AM  2505.56  2513.38  2495.12  2509.17  287000.32   \n1  2017-07-01 12:00 PM  2509.17  2512.87  2484.99  2488.43  393142.50   \n2  2017-07-01 01:00 PM  2488.43  2488.43  2454.40  2454.43  693254.01   \n\n      volume_adi  volume_obv  volume_cmf     volume_fi  ...  momentum_ppo  \\\n0  154659.537174   287000.32    0.538883  0.000000e+00  ...      0.000000   \n1 -141466.449196  -106142.18   -0.207995 -8.153775e+06  ...     -0.065977   \n2 -833498.148276  -799396.19   -0.606888 -1.035618e+07  ...     -0.225431   \n\n   momentum_ppo_signal  momentum_ppo_hist  momentum_pvo  momentum_pvo_signal  \\\n0             0.000000           0.000000      0.000000             0.000000   \n1            -0.013195          -0.052782      2.871568             0.574314   \n2            -0.055643          -0.169789     12.006246             2.860700   \n\n   momentum_pvo_hist  momentum_kama  others_dr  others_dlr  others_cr  \n0           0.000000    2509.170000 -65.047642    0.000000   0.000000  \n1           2.297254    2500.178580  -0.826568   -0.830003  -0.826568  \n2           9.145546    2480.168753  -1.366323   -1.375743  -2.181598  \n\n[3 rows x 92 columns]",
      "text/html": "<div>\n<style scoped>\n    .dataframe tbody tr th:only-of-type {\n        vertical-align: middle;\n    }\n\n    .dataframe tbody tr th {\n        vertical-align: top;\n    }\n\n    .dataframe thead th {\n        text-align: right;\n    }\n</style>\n<table border=\"1\" class=\"dataframe\">\n  <thead>\n    <tr style=\"text-align: right;\">\n      <th></th>\n      <th>date</th>\n      <th>open</th>\n      <th>high</th>\n      <th>low</th>\n      <th>close</th>\n      <th>volume</th>\n      <th>volume_adi</th>\n      <th>volume_obv</th>\n      <th>volume_cmf</th>\n      <th>volume_fi</th>\n      <th>...</th>\n      <th>momentum_ppo</th>\n      <th>momentum_ppo_signal</th>\n      <th>momentum_ppo_hist</th>\n      <th>momentum_pvo</th>\n      <th>momentum_pvo_signal</th>\n      <th>momentum_pvo_hist</th>\n      <th>momentum_kama</th>\n      <th>others_dr</th>\n      <th>others_dlr</th>\n      <th>others_cr</th>\n    </tr>\n  </thead>\n  <tbody>\n    <tr>\n      <th>0</th>\n      <td>2017-07-01 11:00 AM</td>\n      <td>2505.56</td>\n      <td>2513.38</td>\n      <td>2495.12</td>\n      <td>2509.17</td>\n      <td>287000.32</td>\n      <td>154659.537174</td>\n      <td>287000.32</td>\n      <td>0.538883</td>\n      <td>0.000000e+00</td>\n      <td>...</td>\n      <td>0.000000</td>\n      <td>0.000000</td>\n      <td>0.000000</td>\n      <td>0.000000</td>\n      <td>0.000000</td>\n      <td>0.000000</td>\n      <td>2509.170000</td>\n      <td>-65.047642</td>\n      <td>0.000000</td>\n      <td>0.000000</td>\n    </tr>\n    <tr>\n      <th>1</th>\n      <td>2017-07-01 12:00 PM</td>\n      <td>2509.17</td>\n      <td>2512.87</td>\n      <td>2484.99</td>\n      <td>2488.43</td>\n      <td>393142.50</td>\n      <td>-141466.449196</td>\n      <td>-106142.18</td>\n      <td>-0.207995</td>\n      <td>-8.153775e+06</td>\n      <td>...</td>\n      <td>-0.065977</td>\n      <td>-0.013195</td>\n      <td>-0.052782</td>\n      <td>2.871568</td>\n      <td>0.574314</td>\n      <td>2.297254</td>\n      <td>2500.178580</td>\n      <td>-0.826568</td>\n      <td>-0.830003</td>\n      <td>-0.826568</td>\n    </tr>\n    <tr>\n      <th>2</th>\n      <td>2017-07-01 01:00 PM</td>\n      <td>2488.43</td>\n      <td>2488.43</td>\n      <td>2454.40</td>\n      <td>2454.43</td>\n      <td>693254.01</td>\n      <td>-833498.148276</td>\n      <td>-799396.19</td>\n      <td>-0.606888</td>\n      <td>-1.035618e+07</td>\n      <td>...</td>\n      <td>-0.225431</td>\n      <td>-0.055643</td>\n      <td>-0.169789</td>\n      <td>12.006246</td>\n      <td>2.860700</td>\n      <td>9.145546</td>\n      <td>2480.168753</td>\n      <td>-1.366323</td>\n      <td>-1.375743</td>\n      <td>-2.181598</td>\n    </tr>\n  </tbody>\n</table>\n<p>3 rows × 92 columns</p>\n</div>"
     },
     "execution_count": 4,
     "metadata": {},
     "output_type": "execute_result"
    }
   ],
   "source": [
    "dataset = ta.add_all_ta_features(df, 'open', 'high', 'low', 'close', 'volume', fillna=True)\n",
    "dataset.head(3)"
   ]
  },
  {
   "cell_type": "markdown",
   "metadata": {},
   "source": [
    "### Create Chart Price History Data\n",
    "Note: It is recommended to create the chart data *after* creating and cleaning the dataset to ensure one-to-one mapping between the historical prices data and the dataset."
   ]
  },
  {
   "cell_type": "code",
   "execution_count": 5,
   "metadata": {
    "scrolled": true
   },
   "outputs": [
    {
     "data": {
      "text/plain": "                  date     open     high      low    close     volume\n0  2017-07-01 11:00 AM  2505.56  2513.38  2495.12  2509.17  287000.32\n1  2017-07-01 12:00 PM  2509.17  2512.87  2484.99  2488.43  393142.50\n2  2017-07-01 01:00 PM  2488.43  2488.43  2454.40  2454.43  693254.01",
      "text/html": "<div>\n<style scoped>\n    .dataframe tbody tr th:only-of-type {\n        vertical-align: middle;\n    }\n\n    .dataframe tbody tr th {\n        vertical-align: top;\n    }\n\n    .dataframe thead th {\n        text-align: right;\n    }\n</style>\n<table border=\"1\" class=\"dataframe\">\n  <thead>\n    <tr style=\"text-align: right;\">\n      <th></th>\n      <th>date</th>\n      <th>open</th>\n      <th>high</th>\n      <th>low</th>\n      <th>close</th>\n      <th>volume</th>\n    </tr>\n  </thead>\n  <tbody>\n    <tr>\n      <th>0</th>\n      <td>2017-07-01 11:00 AM</td>\n      <td>2505.56</td>\n      <td>2513.38</td>\n      <td>2495.12</td>\n      <td>2509.17</td>\n      <td>287000.32</td>\n    </tr>\n    <tr>\n      <th>1</th>\n      <td>2017-07-01 12:00 PM</td>\n      <td>2509.17</td>\n      <td>2512.87</td>\n      <td>2484.99</td>\n      <td>2488.43</td>\n      <td>393142.50</td>\n    </tr>\n    <tr>\n      <th>2</th>\n      <td>2017-07-01 01:00 PM</td>\n      <td>2488.43</td>\n      <td>2488.43</td>\n      <td>2454.40</td>\n      <td>2454.43</td>\n      <td>693254.01</td>\n    </tr>\n  </tbody>\n</table>\n</div>"
     },
     "metadata": {},
     "output_type": "display_data"
    }
   ],
   "source": [
    "price_history = dataset[['date', 'open', 'high', 'low', 'close', 'volume']]  # chart data\n",
    "display(price_history.head(3))\n",
    "\n",
    "dataset.drop(columns=['date', 'open', 'high', 'low', 'close', 'volume'], inplace=True)"
   ]
  },
  {
   "cell_type": "markdown",
   "metadata": {},
   "source": [
    "## Setup Trading Environment\n",
    "### Create Data Feeds"
   ]
  },
  {
   "cell_type": "code",
   "execution_count": 6,
   "metadata": {},
   "outputs": [
    {
     "data": {
      "text/plain": "{'bitfinex:/volume_adi': 154659.5371741516,\n 'bitfinex:/volume_obv': 287000.32,\n 'bitfinex:/volume_cmf': 0.5388828039430464,\n 'bitfinex:/volume_fi': 0.0,\n 'bitfinex:/volume_em': 0.0,\n 'bitfinex:/volume_sma_em': 0.0,\n 'bitfinex:/volume_vpt': -187039.68188942783,\n 'bitfinex:/volume_vwap': 2505.89,\n 'bitfinex:/volume_mfi': 50.0,\n 'bitfinex:/volume_nvi': 1000.0,\n 'bitfinex:/volatility_bbm': 2509.17,\n 'bitfinex:/volatility_bbh': 2509.17,\n 'bitfinex:/volatility_bbl': 2509.17,\n 'bitfinex:/volatility_bbw': 0.0,\n 'bitfinex:/volatility_bbp': 0.0,\n 'bitfinex:/volatility_bbhi': 0.0,\n 'bitfinex:/volatility_bbli': 0.0,\n 'bitfinex:/volatility_kcc': 2505.89,\n 'bitfinex:/volatility_kch': 2524.15,\n 'bitfinex:/volatility_kcl': 2487.6299999999997,\n 'bitfinex:/volatility_kcw': 1.457366444656407,\n 'bitfinex:/volatility_kcp': 0.5898138006571786,\n 'bitfinex:/volatility_kchi': 0.0,\n 'bitfinex:/volatility_kcli': 0.0,\n 'bitfinex:/volatility_dcl': 2495.12,\n 'bitfinex:/volatility_dch': 2513.38,\n 'bitfinex:/volatility_dcm': 2504.25,\n 'bitfinex:/volatility_dcw': 0.7277306838516409,\n 'bitfinex:/volatility_dcp': 0.7694414019715232,\n 'bitfinex:/volatility_atr': 0.0,\n 'bitfinex:/volatility_ui': 0.0,\n 'bitfinex:/trend_macd': 0.0,\n 'bitfinex:/trend_macd_signal': 0.0,\n 'bitfinex:/trend_macd_diff': 0.0,\n 'bitfinex:/trend_sma_fast': 2509.17,\n 'bitfinex:/trend_sma_slow': 2509.17,\n 'bitfinex:/trend_ema_fast': 2509.17,\n 'bitfinex:/trend_ema_slow': 2509.17,\n 'bitfinex:/trend_vortex_ind_pos': 0.0,\n 'bitfinex:/trend_vortex_ind_neg': 0.0,\n 'bitfinex:/trend_vortex_ind_diff': 0.0,\n 'bitfinex:/trend_trix': -65.01958650947864,\n 'bitfinex:/trend_mass_index': 1.0,\n 'bitfinex:/trend_dpo': 4669.658895132018,\n 'bitfinex:/trend_kst': -650.4764166058512,\n 'bitfinex:/trend_kst_sig': -650.4764166058512,\n 'bitfinex:/trend_kst_diff': 0.0,\n 'bitfinex:/trend_ichimoku_conv': 2504.25,\n 'bitfinex:/trend_ichimoku_base': 2504.25,\n 'bitfinex:/trend_ichimoku_a': 2504.25,\n 'bitfinex:/trend_ichimoku_b': 2504.25,\n 'bitfinex:/trend_stc': 0.0,\n 'bitfinex:/trend_adx': 0.0,\n 'bitfinex:/trend_adx_pos': 0.0,\n 'bitfinex:/trend_adx_neg': 0.0,\n 'bitfinex:/trend_cci': 0.0,\n 'bitfinex:/trend_visual_ichimoku_a': 7164.427851548902,\n 'bitfinex:/trend_visual_ichimoku_b': 7151.343258415792,\n 'bitfinex:/trend_aroon_up': 4.0,\n 'bitfinex:/trend_aroon_down': 4.0,\n 'bitfinex:/trend_aroon_ind': 0.0,\n 'bitfinex:/trend_psar_up': 2385.0,\n 'bitfinex:/trend_psar_down': 2513.38,\n 'bitfinex:/trend_psar_up_indicator': 0.0,\n 'bitfinex:/trend_psar_down_indicator': 0.0,\n 'bitfinex:/momentum_rsi': 100.0,\n 'bitfinex:/momentum_stoch_rsi': 0.0,\n 'bitfinex:/momentum_stoch_rsi_k': 0.0,\n 'bitfinex:/momentum_stoch_rsi_d': 0.0,\n 'bitfinex:/momentum_tsi': 0.0,\n 'bitfinex:/momentum_uo': 0.0,\n 'bitfinex:/momentum_stoch': 76.94414019715232,\n 'bitfinex:/momentum_stoch_signal': 76.94414019715232,\n 'bitfinex:/momentum_wr': -23.055859802847678,\n 'bitfinex:/momentum_ao': 0.0,\n 'bitfinex:/momentum_roc': 0.0,\n 'bitfinex:/momentum_ppo': 0.0,\n 'bitfinex:/momentum_ppo_signal': 0.0,\n 'bitfinex:/momentum_ppo_hist': 0.0,\n 'bitfinex:/momentum_pvo': 0.0,\n 'bitfinex:/momentum_pvo_signal': 0.0,\n 'bitfinex:/momentum_pvo_hist': 0.0,\n 'bitfinex:/momentum_kama': 2509.17,\n 'bitfinex:/others_dr': -65.04764166058513,\n 'bitfinex:/others_dlr': 0.0,\n 'bitfinex:/others_cr': 0.0}"
     },
     "execution_count": 6,
     "metadata": {},
     "output_type": "execute_result"
    }
   ],
   "source": [
    "bitfinex = Exchange(\"bitfinex\", service=execute_order)(\n",
    "    Stream.source(price_history['close'].tolist(), dtype=\"float\").rename(\"USD-BTC\")\n",
    ")\n",
    "\n",
    "portfolio = Portfolio(USD, [\n",
    "    Wallet(bitfinex, 10000 * USD),\n",
    "    Wallet(bitfinex, 10 * BTC),\n",
    "])\n",
    "\n",
    "with NameSpace(\"bitfinex\"):\n",
    "    streams = [Stream.source(dataset[c].tolist(), dtype=\"float\").rename(c) for c in dataset.columns]\n",
    "\n",
    "feed = DataFeed(streams)\n",
    "feed.next()"
   ]
  },
  {
   "cell_type": "markdown",
   "metadata": {},
   "source": [
    "### Trading Environment Renderers\n",
    "A renderer is a channel for the trading environment to output its current state. One or more renderers can be attached to the environment at the same time. For example, you can let the environment draw a chart and log to a file at the same time.\n",
    "\n",
    "Notice that while all renderers can technically be used together, you need to select the best combination to avoid undesired results. For example, PlotlyTradingChart can work well with FileLogger but may not display well with ScreenLogger.\n",
    "\n",
    "Renderer can be set by name (string) or class, single or list. Available renderers are:\n",
    "* `'screenlog'` or `ScreenLogger`: Shows results on the screen.\n",
    "* `'filelog'` or `FileLogger`: Logs results to a file.\n",
    "* `'plotly'` or `PlotlyTradingChart`: A trading chart based on Plotly.\n",
    "\n",
    "#### Examples:\n",
    "\n",
    "* renderers = 'screenlog' (default)\n",
    "* renderers = ['screenlog', 'filelog']\n",
    "* renderers = ScreenLogger()\n",
    "* renderers = ['screenlog', `FileLogger()`]\n",
    "* renderers = [`FileLogger(filename='example.log')`]\n",
    "\n",
    "Renderers can also be created and configured first then attached to the environment as seen in a following example.\n",
    "\n",
    "### Trading Environment with a Single Renderer"
   ]
  },
  {
   "cell_type": "code",
   "execution_count": 7,
   "metadata": {},
   "outputs": [],
   "source": [
    "import tensortrade.env.default as default\n",
    "\n",
    "env = default.create(\n",
    "    portfolio=portfolio,\n",
    "    action_scheme=\"managed-risk\",\n",
    "    reward_scheme=\"risk-adjusted\",\n",
    "    feed=feed,\n",
    "    renderer=\"screen-log\",  # ScreenLogger used with default settings\n",
    "    window_size=20\n",
    ")"
   ]
  },
  {
   "cell_type": "code",
   "execution_count": 8,
   "metadata": {
    "scrolled": false
   },
   "outputs": [
    {
     "name": "stderr",
     "output_type": "stream",
     "text": [
      "C:\\Users\\zhouyi\\AppData\\Local\\Temp\\ipykernel_18420\\1650016058.py:3: DeprecationWarning: Call to deprecated class DQNAgent. (Builtin agents are being deprecated in favor of external implementations (ie: Ray)) -- Deprecated since version 1.0.4.\n",
      "  agent = DQNAgent(env)\n"
     ]
    },
    {
     "name": "stdout",
     "output_type": "stream",
     "text": [
      "====      AGENT ID: 2ef60e5c-8c1f-478e-b6bc-c1a4f77e51da      ====\n",
      "[2023-02-08 15:09:23] Episode: 2/2 Step: 11/200\n",
      "[2023-02-08 15:09:29] Episode: 2/2 Step: 21/200\n",
      "[2023-02-08 15:09:36] Episode: 2/2 Step: 31/200\n",
      "[2023-02-08 15:09:43] Episode: 2/2 Step: 41/200\n",
      "[2023-02-08 15:09:49] Episode: 2/2 Step: 51/200\n",
      "[2023-02-08 15:09:56] Episode: 2/2 Step: 61/200\n",
      "[2023-02-08 15:10:02] Episode: 2/2 Step: 71/200\n",
      "[2023-02-08 15:10:08] Episode: 2/2 Step: 81/200\n",
      "[2023-02-08 15:10:15] Episode: 2/2 Step: 91/200\n",
      "[2023-02-08 15:10:21] Episode: 2/2 Step: 101/200\n",
      "[2023-02-08 15:10:28] Episode: 2/2 Step: 111/200\n",
      "[2023-02-08 15:10:34] Episode: 2/2 Step: 121/200\n",
      "[2023-02-08 15:10:41] Episode: 2/2 Step: 131/200\n",
      "[2023-02-08 15:10:48] Episode: 2/2 Step: 141/200\n",
      "[2023-02-08 15:10:54] Episode: 2/2 Step: 151/200\n",
      "[2023-02-08 15:11:01] Episode: 2/2 Step: 161/200\n",
      "[2023-02-08 15:11:07] Episode: 2/2 Step: 171/200\n",
      "[2023-02-08 15:11:14] Episode: 2/2 Step: 181/200\n",
      "[2023-02-08 15:11:21] Episode: 2/2 Step: 191/200\n",
      "[2023-02-08 15:11:27] Episode: 2/2 Step: 201/200\n",
      "WARNING:tensorflow:Compiled the loaded model, but the compiled metrics have yet to be built. `model.compile_metrics` will be empty until you train or evaluate the model.\n"
     ]
    },
    {
     "name": "stderr",
     "output_type": "stream",
     "text": [
      "WARNING:tensorflow:Compiled the loaded model, but the compiled metrics have yet to be built. `model.compile_metrics` will be empty until you train or evaluate the model.\n"
     ]
    },
    {
     "data": {
      "text/plain": "-337453.46502234146"
     },
     "execution_count": 8,
     "metadata": {},
     "output_type": "execute_result"
    }
   ],
   "source": [
    "from tensortrade.agents import DQNAgent\n",
    "\n",
    "agent = DQNAgent(env)\n",
    "agent.train(n_episodes=2, n_steps=200, render_interval=10)"
   ]
  },
  {
   "cell_type": "markdown",
   "metadata": {},
   "source": [
    "### Environment with Multiple Renderers\n",
    "Create PlotlyTradingChart and FileLogger renderers. Configuring renderers is optional as they can be used with their default settings."
   ]
  },
  {
   "cell_type": "code",
   "execution_count": 9,
   "metadata": {},
   "outputs": [],
   "source": [
    "from tensortrade.env.default.renderers import PlotlyTradingChart, FileLogger\n",
    "\n",
    "chart_renderer = PlotlyTradingChart(\n",
    "    display=True,  # show the chart on screen (default)\n",
    "    height=800,  # affects both displayed and saved file height. None for 100% height.\n",
    "    save_format=\"html\",  # save the chart to an HTML file\n",
    "    auto_open_html=True,  # open the saved HTML chart in a new browser tab\n",
    ")\n",
    "\n",
    "file_logger = FileLogger(\n",
    "    filename=\"example.log\",  # omit or None for automatic file name\n",
    "    path=\"training_logs\"  # create a new directory if doesn't exist, None for no directory\n",
    ")"
   ]
  },
  {
   "cell_type": "markdown",
   "metadata": {},
   "source": [
    "### Environement with Multiple Renderers\n",
    "\n",
    "With the plotly renderer you must provide an parameter called `renderer_feed`. This is a `DataFeed` instance that provides all the information that is required by a renderer to function."
   ]
  },
  {
   "cell_type": "code",
   "execution_count": 10,
   "metadata": {},
   "outputs": [],
   "source": [
    "renderer_feed = DataFeed([\n",
    "    Stream.source(price_history[c].tolist(), dtype=\"float\").rename(c) for c in price_history]\n",
    ")\n",
    "\n",
    "env = default.create(\n",
    "    portfolio=portfolio,\n",
    "    action_scheme=\"managed-risk\",\n",
    "    reward_scheme=\"risk-adjusted\",\n",
    "    feed=feed,\n",
    "    window_size=20,\n",
    "    renderer_feed=renderer_feed,\n",
    "    renderer=[\n",
    "        chart_renderer, \n",
    "        file_logger\n",
    "    ]\n",
    ")"
   ]
  },
  {
   "cell_type": "markdown",
   "metadata": {},
   "source": [
    "## Setup and Train DQN Agent\n",
    "The green and red arrows shown on the chart represent buy and sell trades respectively. The head of each arrow falls at the trade execution price."
   ]
  },
  {
   "cell_type": "code",
   "execution_count": 12,
   "metadata": {
    "scrolled": false
   },
   "outputs": [
    {
     "name": "stderr",
     "output_type": "stream",
     "text": [
      "C:\\Users\\zhouyi\\AppData\\Local\\Temp\\ipykernel_18420\\3500936028.py:3: DeprecationWarning: Call to deprecated class DQNAgent. (Builtin agents are being deprecated in favor of external implementations (ie: Ray)) -- Deprecated since version 1.0.4.\n",
      "  agent = DQNAgent(env)\n"
     ]
    },
    {
     "name": "stdout",
     "output_type": "stream",
     "text": [
      "====      AGENT ID: 593f6e4e-8cda-4247-aed4-986da06684f3      ====\n"
     ]
    },
    {
     "ename": "KeyboardInterrupt",
     "evalue": "",
     "output_type": "error",
     "traceback": [
      "\u001B[1;31m---------------------------------------------------------------------------\u001B[0m",
      "\u001B[1;31mKeyboardInterrupt\u001B[0m                         Traceback (most recent call last)",
      "Cell \u001B[1;32mIn[12], line 6\u001B[0m\n\u001B[0;32m      3\u001B[0m agent \u001B[38;5;241m=\u001B[39m DQNAgent(env)\n\u001B[0;32m      5\u001B[0m \u001B[38;5;66;03m# Set render_interval to None to render at episode ends only\u001B[39;00m\n\u001B[1;32m----> 6\u001B[0m \u001B[43magent\u001B[49m\u001B[38;5;241;43m.\u001B[39;49m\u001B[43mtrain\u001B[49m\u001B[43m(\u001B[49m\u001B[43mn_episodes\u001B[49m\u001B[38;5;241;43m=\u001B[39;49m\u001B[38;5;241;43m2\u001B[39;49m\u001B[43m,\u001B[49m\u001B[43m \u001B[49m\u001B[43mn_steps\u001B[49m\u001B[38;5;241;43m=\u001B[39;49m\u001B[38;5;241;43m200\u001B[39;49m\u001B[43m,\u001B[49m\u001B[43m \u001B[49m\u001B[43mrender_interval\u001B[49m\u001B[38;5;241;43m=\u001B[39;49m\u001B[38;5;241;43m10\u001B[39;49m\u001B[43m)\u001B[49m\n",
      "File \u001B[1;32mD:\\rl\\tensortrade\\tensortrade\\agents\\dqn_agent.py:363\u001B[0m, in \u001B[0;36mDQNAgent.train\u001B[1;34m(self, n_steps, n_episodes, save_every, save_path, callback, **kwargs)\u001B[0m\n\u001B[0;32m    356\u001B[0m     \u001B[38;5;28;01mif\u001B[39;00m \u001B[38;5;129;01mnot\u001B[39;00m render_interval \u001B[38;5;129;01mor\u001B[39;00m steps_done \u001B[38;5;241m<\u001B[39m n_steps:\n\u001B[0;32m    357\u001B[0m         \u001B[38;5;28mself\u001B[39m\u001B[38;5;241m.\u001B[39menv\u001B[38;5;241m.\u001B[39mrender(\n\u001B[0;32m    358\u001B[0m             episode\u001B[38;5;241m=\u001B[39mepisode,\n\u001B[0;32m    359\u001B[0m             max_episodes\u001B[38;5;241m=\u001B[39mn_episodes,\n\u001B[0;32m    360\u001B[0m             max_steps\u001B[38;5;241m=\u001B[39mn_steps\n\u001B[0;32m    361\u001B[0m         )  \u001B[38;5;66;03m# renderers final state at episode end if not rendered earlier\u001B[39;00m\n\u001B[1;32m--> 363\u001B[0m     \u001B[38;5;28;43mself\u001B[39;49m\u001B[38;5;241;43m.\u001B[39;49m\u001B[43menv\u001B[49m\u001B[38;5;241;43m.\u001B[39;49m\u001B[43msave\u001B[49m\u001B[43m(\u001B[49m\u001B[43m)\u001B[49m\n\u001B[0;32m    365\u001B[0m     episode \u001B[38;5;241m+\u001B[39m\u001B[38;5;241m=\u001B[39m \u001B[38;5;241m1\u001B[39m\n\u001B[0;32m    367\u001B[0m mean_reward \u001B[38;5;241m=\u001B[39m total_reward \u001B[38;5;241m/\u001B[39m steps_done\n",
      "File \u001B[1;32mD:\\rl\\tensortrade\\tensortrade\\env\\generic\\environment.py:173\u001B[0m, in \u001B[0;36mTradingEnv.save\u001B[1;34m(self)\u001B[0m\n\u001B[0;32m    171\u001B[0m \u001B[38;5;28;01mdef\u001B[39;00m \u001B[38;5;21msave\u001B[39m(\u001B[38;5;28mself\u001B[39m) \u001B[38;5;241m-\u001B[39m\u001B[38;5;241m>\u001B[39m \u001B[38;5;28;01mNone\u001B[39;00m:\n\u001B[0;32m    172\u001B[0m \u001B[38;5;250m    \u001B[39m\u001B[38;5;124;03m\"\"\"Saves the rendered view of the environment.\"\"\"\u001B[39;00m\n\u001B[1;32m--> 173\u001B[0m     \u001B[38;5;28;43mself\u001B[39;49m\u001B[38;5;241;43m.\u001B[39;49m\u001B[43mrenderer\u001B[49m\u001B[38;5;241;43m.\u001B[39;49m\u001B[43msave\u001B[49m\u001B[43m(\u001B[49m\u001B[43m)\u001B[49m\n",
      "File \u001B[1;32mD:\\rl\\tensortrade\\tensortrade\\env\\generic\\components\\renderer.py:78\u001B[0m, in \u001B[0;36mAggregateRenderer.save\u001B[1;34m(self)\u001B[0m\n\u001B[0;32m     76\u001B[0m \u001B[38;5;28;01mdef\u001B[39;00m \u001B[38;5;21msave\u001B[39m(\u001B[38;5;28mself\u001B[39m) \u001B[38;5;241m-\u001B[39m\u001B[38;5;241m>\u001B[39m \u001B[38;5;28;01mNone\u001B[39;00m:\n\u001B[0;32m     77\u001B[0m     \u001B[38;5;28;01mfor\u001B[39;00m r \u001B[38;5;129;01min\u001B[39;00m \u001B[38;5;28mself\u001B[39m\u001B[38;5;241m.\u001B[39mrenderers:\n\u001B[1;32m---> 78\u001B[0m         \u001B[43mr\u001B[49m\u001B[38;5;241;43m.\u001B[39;49m\u001B[43msave\u001B[49m\u001B[43m(\u001B[49m\u001B[43m)\u001B[49m\n",
      "File \u001B[1;32mD:\\rl\\tensortrade\\tensortrade\\env\\default\\renderers.py:546\u001B[0m, in \u001B[0;36mPlotlyTradingChart.save\u001B[1;34m(self)\u001B[0m\n\u001B[0;32m    544\u001B[0m filename \u001B[38;5;241m=\u001B[39m _create_auto_file_name(\u001B[38;5;28mself\u001B[39m\u001B[38;5;241m.\u001B[39m_filename_prefix, \u001B[38;5;28mself\u001B[39m\u001B[38;5;241m.\u001B[39m_save_format)\n\u001B[0;32m    545\u001B[0m filename \u001B[38;5;241m=\u001B[39m os\u001B[38;5;241m.\u001B[39mpath\u001B[38;5;241m.\u001B[39mjoin(\u001B[38;5;28mself\u001B[39m\u001B[38;5;241m.\u001B[39m_path, filename)\n\u001B[1;32m--> 546\u001B[0m \u001B[38;5;28;01mif\u001B[39;00m \u001B[38;5;28;43mself\u001B[39;49m\u001B[38;5;241m.\u001B[39m_save_format \u001B[38;5;241m==\u001B[39m \u001B[38;5;124m'\u001B[39m\u001B[38;5;124mhtml\u001B[39m\u001B[38;5;124m'\u001B[39m:\n\u001B[0;32m    547\u001B[0m     \u001B[38;5;28mself\u001B[39m\u001B[38;5;241m.\u001B[39mfig\u001B[38;5;241m.\u001B[39mwrite_html(file\u001B[38;5;241m=\u001B[39mfilename, include_plotlyjs\u001B[38;5;241m=\u001B[39m\u001B[38;5;124m'\u001B[39m\u001B[38;5;124mcdn\u001B[39m\u001B[38;5;124m'\u001B[39m, auto_open\u001B[38;5;241m=\u001B[39m\u001B[38;5;28mself\u001B[39m\u001B[38;5;241m.\u001B[39m_auto_open_html)\n\u001B[0;32m    548\u001B[0m \u001B[38;5;28;01melse\u001B[39;00m:\n",
      "File \u001B[1;32mD:\\rl\\tensortrade\\tensortrade\\env\\default\\renderers.py:546\u001B[0m, in \u001B[0;36mPlotlyTradingChart.save\u001B[1;34m(self)\u001B[0m\n\u001B[0;32m    544\u001B[0m filename \u001B[38;5;241m=\u001B[39m _create_auto_file_name(\u001B[38;5;28mself\u001B[39m\u001B[38;5;241m.\u001B[39m_filename_prefix, \u001B[38;5;28mself\u001B[39m\u001B[38;5;241m.\u001B[39m_save_format)\n\u001B[0;32m    545\u001B[0m filename \u001B[38;5;241m=\u001B[39m os\u001B[38;5;241m.\u001B[39mpath\u001B[38;5;241m.\u001B[39mjoin(\u001B[38;5;28mself\u001B[39m\u001B[38;5;241m.\u001B[39m_path, filename)\n\u001B[1;32m--> 546\u001B[0m \u001B[38;5;28;01mif\u001B[39;00m \u001B[38;5;28;43mself\u001B[39;49m\u001B[38;5;241m.\u001B[39m_save_format \u001B[38;5;241m==\u001B[39m \u001B[38;5;124m'\u001B[39m\u001B[38;5;124mhtml\u001B[39m\u001B[38;5;124m'\u001B[39m:\n\u001B[0;32m    547\u001B[0m     \u001B[38;5;28mself\u001B[39m\u001B[38;5;241m.\u001B[39mfig\u001B[38;5;241m.\u001B[39mwrite_html(file\u001B[38;5;241m=\u001B[39mfilename, include_plotlyjs\u001B[38;5;241m=\u001B[39m\u001B[38;5;124m'\u001B[39m\u001B[38;5;124mcdn\u001B[39m\u001B[38;5;124m'\u001B[39m, auto_open\u001B[38;5;241m=\u001B[39m\u001B[38;5;28mself\u001B[39m\u001B[38;5;241m.\u001B[39m_auto_open_html)\n\u001B[0;32m    548\u001B[0m \u001B[38;5;28;01melse\u001B[39;00m:\n",
      "File \u001B[1;32m_pydevd_bundle\\pydevd_cython_win32_39_64.pyx:1179\u001B[0m, in \u001B[0;36m_pydevd_bundle.pydevd_cython_win32_39_64.SafeCallWrapper.__call__\u001B[1;34m()\u001B[0m\n",
      "File \u001B[1;32m_pydevd_bundle\\pydevd_cython_win32_39_64.pyx:620\u001B[0m, in \u001B[0;36m_pydevd_bundle.pydevd_cython_win32_39_64.PyDBFrame.trace_dispatch\u001B[1;34m()\u001B[0m\n",
      "File \u001B[1;32m_pydevd_bundle\\pydevd_cython_win32_39_64.pyx:929\u001B[0m, in \u001B[0;36m_pydevd_bundle.pydevd_cython_win32_39_64.PyDBFrame.trace_dispatch\u001B[1;34m()\u001B[0m\n",
      "File \u001B[1;32m_pydevd_bundle\\pydevd_cython_win32_39_64.pyx:920\u001B[0m, in \u001B[0;36m_pydevd_bundle.pydevd_cython_win32_39_64.PyDBFrame.trace_dispatch\u001B[1;34m()\u001B[0m\n",
      "File \u001B[1;32m_pydevd_bundle\\pydevd_cython_win32_39_64.pyx:317\u001B[0m, in \u001B[0;36m_pydevd_bundle.pydevd_cython_win32_39_64.PyDBFrame.do_wait_suspend\u001B[1;34m()\u001B[0m\n",
      "File \u001B[1;32m~\\AppData\\Local\\JetBrains\\Toolbox\\apps\\PyCharm-P\\ch-1\\222.4459.4\\plugins\\python\\helpers\\pydev\\pydevd.py:1160\u001B[0m, in \u001B[0;36mPyDB.do_wait_suspend\u001B[1;34m(self, thread, frame, event, arg, send_suspend_message, is_unhandled_exception)\u001B[0m\n\u001B[0;32m   1157\u001B[0m         from_this_thread\u001B[38;5;241m.\u001B[39mappend(frame_id)\n\u001B[0;32m   1159\u001B[0m \u001B[38;5;28;01mwith\u001B[39;00m \u001B[38;5;28mself\u001B[39m\u001B[38;5;241m.\u001B[39m_threads_suspended_single_notification\u001B[38;5;241m.\u001B[39mnotify_thread_suspended(thread_id, stop_reason):\n\u001B[1;32m-> 1160\u001B[0m     \u001B[38;5;28;43mself\u001B[39;49m\u001B[38;5;241;43m.\u001B[39;49m\u001B[43m_do_wait_suspend\u001B[49m\u001B[43m(\u001B[49m\u001B[43mthread\u001B[49m\u001B[43m,\u001B[49m\u001B[43m \u001B[49m\u001B[43mframe\u001B[49m\u001B[43m,\u001B[49m\u001B[43m \u001B[49m\u001B[43mevent\u001B[49m\u001B[43m,\u001B[49m\u001B[43m \u001B[49m\u001B[43marg\u001B[49m\u001B[43m,\u001B[49m\u001B[43m \u001B[49m\u001B[43msuspend_type\u001B[49m\u001B[43m,\u001B[49m\u001B[43m \u001B[49m\u001B[43mfrom_this_thread\u001B[49m\u001B[43m)\u001B[49m\n",
      "File \u001B[1;32m~\\AppData\\Local\\JetBrains\\Toolbox\\apps\\PyCharm-P\\ch-1\\222.4459.4\\plugins\\python\\helpers\\pydev\\pydevd.py:1175\u001B[0m, in \u001B[0;36mPyDB._do_wait_suspend\u001B[1;34m(self, thread, frame, event, arg, suspend_type, from_this_thread)\u001B[0m\n\u001B[0;32m   1172\u001B[0m             \u001B[38;5;28mself\u001B[39m\u001B[38;5;241m.\u001B[39m_call_mpl_hook()\n\u001B[0;32m   1174\u001B[0m         \u001B[38;5;28mself\u001B[39m\u001B[38;5;241m.\u001B[39mprocess_internal_commands()\n\u001B[1;32m-> 1175\u001B[0m         \u001B[43mtime\u001B[49m\u001B[38;5;241;43m.\u001B[39;49m\u001B[43msleep\u001B[49m\u001B[43m(\u001B[49m\u001B[38;5;241;43m0.01\u001B[39;49m\u001B[43m)\u001B[49m\n\u001B[0;32m   1177\u001B[0m \u001B[38;5;28mself\u001B[39m\u001B[38;5;241m.\u001B[39mcancel_async_evaluation(get_current_thread_id(thread), \u001B[38;5;28mstr\u001B[39m(\u001B[38;5;28mid\u001B[39m(frame)))\n\u001B[0;32m   1179\u001B[0m \u001B[38;5;66;03m# process any stepping instructions\u001B[39;00m\n",
      "\u001B[1;31mKeyboardInterrupt\u001B[0m: "
     ]
    }
   ],
   "source": [
    "from tensortrade.agents import DQNAgent\n",
    "\n",
    "agent = DQNAgent(env)\n",
    "\n",
    "# Set render_interval to None to render at episode ends only\n",
    "agent.train(n_episodes=2, n_steps=200, render_interval=10)"
   ]
  },
  {
   "cell_type": "markdown",
   "metadata": {},
   "source": [
    "## Direct Performance and Net Worth Plotting\n",
    "Alternatively, the final performance and net worth can be displayed using pandas via Matplotlib."
   ]
  },
  {
   "cell_type": "code",
   "execution_count": null,
   "metadata": {},
   "outputs": [],
   "source": [
    "%matplotlib inline\n",
    "\n",
    "performance = pd.DataFrame.from_dict(env.action_scheme.portfolio.performance, orient='index')\n",
    "performance.plot()"
   ]
  },
  {
   "cell_type": "code",
   "execution_count": null,
   "metadata": {},
   "outputs": [],
   "source": [
    "performance.net_worth.plot()"
   ]
  },
  {
   "cell_type": "code",
   "execution_count": null,
   "metadata": {},
   "outputs": [],
   "source": []
  }
 ],
 "metadata": {
  "kernelspec": {
   "display_name": "Python 3",
   "language": "python",
   "name": "python3"
  },
  "language_info": {
   "codemirror_mode": {
    "name": "ipython",
    "version": 3
   },
   "file_extension": ".py",
   "mimetype": "text/x-python",
   "name": "python",
   "nbconvert_exporter": "python",
   "pygments_lexer": "ipython3",
   "version": "3.7.4"
  }
 },
 "nbformat": 4,
 "nbformat_minor": 4
}
