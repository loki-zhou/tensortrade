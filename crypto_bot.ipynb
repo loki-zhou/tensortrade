{
 "cells": [
  {
   "cell_type": "markdown",
   "metadata": {
    "colab_type": "text",
    "id": "jKtLwsCCqsmH"
   },
   "source": [
    "Cryptocurrency trading bot."
   ]
  },
  {
   "cell_type": "markdown",
   "metadata": {
    "colab_type": "text",
    "id": "4NCI6E0krnqz"
   },
   "source": [
    "Library imports."
   ]
  },
  {
   "cell_type": "code",
   "execution_count": null,
   "metadata": {
    "colab": {},
    "colab_type": "code",
    "id": "roqyi1bprb0q",
    "scrolled": true
   },
   "outputs": [],
   "source": [
    "import pandas as pd, random, time\n",
    "\n",
    "from binance.exceptions import BinanceAPIException\n",
    "from tensortrade.binance import Binance"
   ]
  },
  {
   "cell_type": "markdown",
   "metadata": {},
   "source": [
    "Program parameters."
   ]
  },
  {
   "cell_type": "code",
   "execution_count": null,
   "metadata": {},
   "outputs": [],
   "source": [
    "intervals = ['1m']\n",
    "symbol = 'SCRTUSDT'\n",
    "DELAY = 5\n",
    "count = 1"
   ]
  },
  {
   "cell_type": "code",
   "execution_count": null,
   "outputs": [],
   "source": [],
   "metadata": {
    "collapsed": false
   }
  },
  {
   "cell_type": "code",
   "execution_count": null,
   "outputs": [],
   "source": [],
   "metadata": {
    "collapsed": false
   }
  },
  {
   "cell_type": "markdown",
   "metadata": {},
   "source": [
    "Program initialization."
   ]
  },
  {
   "cell_type": "code",
   "execution_count": null,
   "metadata": {},
   "outputs": [],
   "source": [
    "crypto = Binance(use_futures=False)\n",
    "spot_client = crypto.spot_client\n",
    "futures_client = crypto.futures_client\n",
    "\n",
    "crypto.make_pair(symbol, intervals=intervals, download=True)\n",
    "pair = crypto.pair"
   ]
  },
  {
   "cell_type": "code",
   "execution_count": null,
   "metadata": {},
   "outputs": [],
   "source": [
    "spot_client.get_ticker()"
   ]
  },
  {
   "cell_type": "code",
   "execution_count": null,
   "metadata": {},
   "outputs": [],
   "source": [
    "from tensortrade.binance.strategy import Binance_strategy\n",
    "strategy = Binance_strategy(crypto=crypto)\n",
    "strategy.get_moving_pairs()"
   ]
  },
  {
   "cell_type": "code",
   "execution_count": null,
   "metadata": {},
   "outputs": [],
   "source": [
    "crypto.pair.info.pair"
   ]
  },
  {
   "cell_type": "code",
   "execution_count": null,
   "metadata": {},
   "outputs": [],
   "source": [
    "from tensortrade.binance.futures import Binance_futures\n",
    "futures = Binance_futures(futures_client=crypto.futures_client)\n",
    "futures1 = futures.filter_buy_sell_ratio(symbol='BTCUSDT', period='5m')\n",
    "futures2 = futures.filter_top_long_short_accounts(symbol='DOTUSDT', period='5m')\n",
    "futures2"
   ]
  },
  {
   "cell_type": "code",
   "execution_count": null,
   "metadata": {},
   "outputs": [],
   "source": [
    "results = futures_client.get_top_long_short_accounts(symbol='DOTUSDT', period='5m')\n",
    "df = pd.DataFrame([result.__dict__ for result in results])[['timestamp', 'longShortRatio']]\n",
    "df = df.rename(columns={'timestamp': 'time', 'longShortRatio': 'long_short_ratio'})\n",
    "df = df.set_index('time').sort_index().reset_index(drop=True)\n",
    "df"
   ]
  },
  {
   "cell_type": "code",
   "execution_count": null,
   "metadata": {},
   "outputs": [],
   "source": [
    "interest = futures_client.get_top_long_short_accounts(symbol='BTCUSDT', period='5m')\n",
    "df = pd.DataFrame([interest.__dict__ for interest in interest])\n",
    "df"
   ]
  },
  {
   "cell_type": "markdown",
   "source": [],
   "metadata": {
    "collapsed": false
   }
  },
  {
   "cell_type": "code",
   "execution_count": null,
   "metadata": {},
   "outputs": [],
   "source": [
    "interest = futures_client.get_open_interest_stats(symbol='BTCUSDT', period='5m')\n",
    "df = pd.DataFrame([interest.__dict__ for interest in interest])\n",
    "df"
   ]
  }
 ],
 "metadata": {
  "colab": {
   "authorship_tag": "ABX9TyO4csgmdyxBlfVzNgUhkI0X",
   "collapsed_sections": [],
   "include_colab_link": true,
   "name": "crypto_bot",
   "provenance": []
  },
  "kernelspec": {
   "display_name": "Python 3 (ipykernel)",
   "language": "python",
   "name": "python3"
  },
  "language_info": {
   "codemirror_mode": {
    "name": "ipython",
    "version": 3
   },
   "file_extension": ".py",
   "mimetype": "text/x-python",
   "name": "python",
   "nbconvert_exporter": "python",
   "pygments_lexer": "ipython3",
   "version": "3.8.10"
  }
 },
 "nbformat": 4,
 "nbformat_minor": 1
}
